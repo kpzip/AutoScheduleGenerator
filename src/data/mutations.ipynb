{
 "cells": [
  {
   "cell_type": "code",
   "execution_count": 4,
   "metadata": {},
   "outputs": [],
   "source": [
    "import numpy as np\n",
    "import random\n",
    "from inputdata.Course import Course\n",
    "from inputdata.Room import Room\n",
    "from inputdata.Student import Student\n",
    "from inputdata.Teacher import Teacher\n",
    "from Schedule import Schedule \n",
    "from MasterSchedule import MasterSchedule\n",
    "from RoomSchedule import RoomSchedule\n",
    "from StudentSchedule import StudentSchedule\n",
    "from TeacherSchedule import TeacherSchedule\n",
    "from Section import Section\n",
    "from Constants import DAYS_IN_WEEK, NUMBER_OF_PERIODS"
   ]
  },
  {
   "cell_type": "code",
   "execution_count": 23,
   "metadata": {},
   "outputs": [],
   "source": [
    "teachers = np.array([], dtype=Teacher)\n",
    "students = np.array([], dtype=Student)"
   ]
  },
  {
   "cell_type": "code",
   "execution_count": 2,
   "metadata": {},
   "outputs": [
    {
     "ename": "IndentationError",
     "evalue": "unindent does not match any outer indentation level (<tokenize>, line 9)",
     "output_type": "error",
     "traceback": [
      "\u001b[1;36m  File \u001b[1;32m<tokenize>:9\u001b[1;36m\u001b[0m\n\u001b[1;33m    occupied = orig_room.getOccupiedSectionTimes()\u001b[0m\n\u001b[1;37m    ^\u001b[0m\n\u001b[1;31mIndentationError\u001b[0m\u001b[1;31m:\u001b[0m unindent does not match any outer indentation level\n"
     ]
    }
   ],
   "source": [
    "def SplitSectionPeriod(master_schedule : MasterSchedule):\n",
    "    # choose random room such that it is occupied at some period\n",
    "    orig_room_index = random.randrange(0, master_schedule.roomSchedules.size)\n",
    "    orig_room : RoomSchedule = master_schedule.roomSchedules[orig_room_index]\n",
    "    while orig_room.getOccupiedSectionTimes().size() == 0:\n",
    "      orig_room_index = random.randrange(0, master_schedule.roomSchedules.size)\n",
    "      orig_room = master_schedule.roomSchedules[orig_room_index]\n",
    "    # choose random occupied period\n",
    "    occupied = orig_room.getOccupiedSectionTimes()\n",
    "    orig_period = random.choice(occupied)[1]\n",
    "\n",
    "    # choose random room such that it is unoccupied at some period\n",
    "    new_room_index = random.randrange(0, master_schedule.roomSchedules.size)\n",
    "    new_room : RoomSchedule = master_schedule.roomSchedules[new_room_index]\n",
    "    while new_room.getEmptySectionTimes().size() == 0:\n",
    "      new_room_index = random.randrange(0, master_schedule.roomSchedules.size)\n",
    "      new_room = master_schedule.roomSchedules[new_room_index]\n",
    "    # choose random period that is unoccupied and the teacher is available\n",
    "    unoccupied = new_room.getEmptySectionTimes()\n",
    "    teacher = orig_room.getScheduledSection(0, orig_period).getTeacher()\n",
    "    available_periods = np.array([])\n",
    "    for time in unoccupied:\n",
    "       if time[1] in teacher.getPeriodsAvailable():\n",
    "          for rs in master_schedule.roomSchedules:\n",
    "              if rs.sections[0][time[1]].getTeacher().getId() == teacher.getId():\n",
    "\n",
    "  \n"
   ]
  },
  {
   "cell_type": "code",
   "execution_count": 12,
   "metadata": {},
   "outputs": [],
   "source": [
    "def ChangeSectionPeriod(master_schedule : MasterSchedule):\n",
    "  # choose random room\n",
    "  room_index = random.randrange(0, master_schedule.roomSchedules.size)\n",
    "  room : RoomSchedule = master_schedule.roomSchedules[room_index]\n",
    "  # choose random period\n",
    "  orig_period = random.randrange(0, NUMBER_OF_PERIODS)\n",
    "  # choose another random period\n",
    "  new_period\n",
    "  while new_period == orig_period:\n",
    "    new_period = random.randrange(0, NUMBER_OF_PERIODS)\n",
    "  \n",
    "  # move section from orig period to second period for all days in week\n",
    "  for d in range(DAYS_IN_WEEK):\n",
    "    a = room.sections[d][orig_period]\n",
    "    b = room.sections[d][new_period]\n",
    "    room.sections[d][orig_period] = b\n",
    "    room.sections[d][new_period] = a\n",
    "  master_schedule.roomSchedules[room_index] = room\n",
    "\n",
    "  return master_schedule\n"
   ]
  },
  {
   "cell_type": "code",
   "execution_count": 14,
   "metadata": {},
   "outputs": [],
   "source": [
    "def ChangeSectionRoom(master_schedule : MasterSchedule):\n",
    "    # choose random room such that it is occupied at some period\n",
    "    orig_room_index = random.randrange(0, master_schedule.roomSchedules.size)\n",
    "    orig_room : RoomSchedule = master_schedule.roomSchedules[orig_room_index]\n",
    "    while orig_room.getOccupiedSectionTimes().size() == 0:\n",
    "      orig_room_index = random.randrange(0, master_schedule.roomSchedules.size)\n",
    "      orig_room = master_schedule.roomSchedules[orig_room_index]\n",
    "    # choose random occupised period\n",
    "    occupied = orig_room.getOccupiedSectionTimes()\n",
    "    period = random.choice(occupied)[1]\n",
    "    # choose random room with that period unoccupied\n",
    "    room_schedules_with_period_unoccupied = master_schedule.getIndexesOfRoomsWithPeriodUnoccuppied(period)\n",
    "    new_room_index = random.choice(room_schedules_with_period_unoccupied)\n",
    "    new_room = master_schedule.roomSchedules[new_room_index]\n",
    "    \n",
    "    # move section from orig room to new room for all days\n",
    "    for d in range(DAYS_IN_WEEK):\n",
    "      new_room.sections[d][period] = orig_room.sections[d][period]\n",
    "      orig_room.sections[d][period] = None\n",
    "    master_schedule.roomSchedules[orig_room_index] = orig_room\n",
    "    master_schedule.roomSchedules[new_room_index] = new_room\n",
    "    \n",
    "    return master_schedule"
   ]
  },
  {
   "cell_type": "code",
   "execution_count": 8,
   "metadata": {},
   "outputs": [],
   "source": [
    "def ChangeSectionTeacher(master_schedule : MasterSchedule):\n",
    "    # choose random room such that it is occupied at some period\n",
    "    room_index = random.randrange(0, master_schedule.roomSchedules.size)\n",
    "    room : RoomSchedule = master_schedule.roomSchedules[room_index]\n",
    "    while room.getOccupiedSectionTimes().size() == 0:\n",
    "      room_index = random.randrange(0, master_schedule.roomSchedules.size)\n",
    "      room = master_schedule.roomSchedules[room_index]\n",
    "    # choose random occupied period\n",
    "    occupied = room.getOccupiedSectionTimes()\n",
    "    period = random.choice(occupied)[1]\n",
    "    # get course\n",
    "    course = room.sections[0][period].getCourse()\n",
    "    \n",
    "    # get new teacher that is available\n",
    "    unavailable_teachers = np.ones(teachers.size) # 1 = available, 0 = unavailable\n",
    "    for rs in master_schedule.roomSchedules:\n",
    "      for ti in range(teachers.size()):\n",
    "        # if teacher is teaching class in this period, they are unavailable\n",
    "        if rs.sections[0][period].getTeacher().getId() == teachers[ti].getId():\n",
    "           unavailable_teachers[ti] = 0\n",
    "    \n",
    "    # check if period is on teacher's available periods list\n",
    "    for ti in range(teachers.size()):\n",
    "        if period not in teachers[ti].getPeriodsAvailable():\n",
    "           unavailable_teachers[ti] = 0\n",
    "\n",
    "    available_teachers = np.array([]) # append teacher if they can teach the course\n",
    "    for i in range(unavailable_teachers.size()):\n",
    "       if unavailable_teachers[i] == 1:\n",
    "          if course in teachers[i].getRankedCourses:\n",
    "            available_teachers = np.append(available_teachers, teachers[i])\n",
    "    \n",
    "    # choose random available teacher\n",
    "    new_teacher = random.choice(available_teachers)\n",
    "\n",
    "    #change the teacher of the section for all days of the week\n",
    "    for d in range(DAYS_IN_WEEK):\n",
    "       room.sections[d][period].setTeacher(new_teacher)\n",
    "    master_schedule.roomSchedules[room_index] = room\n",
    "\n",
    "    return master_schedule"
   ]
  },
  {
   "cell_type": "code",
   "execution_count": null,
   "metadata": {},
   "outputs": [],
   "source": [
    "def RemoveSection(master_schedule : MasterSchedule):\n",
    "     # choose random room such that it is occupied at some period\n",
    "    room_index = random.randrange(0, master_schedule.roomSchedules.size)\n",
    "    room : RoomSchedule = master_schedule.roomSchedules[room_index]\n",
    "    while room.getOccupiedSectionTimes().size() == 0:\n",
    "      room_index = random.randrange(0, master_schedule.roomSchedules.size)\n",
    "      room = master_schedule.roomSchedules[room_index]\n",
    "    # choose random occupised period\n",
    "    occupied = room.getOccupiedSectionTimes()\n",
    "    period = random.choice(occupied)[1]\n",
    "    # delete section for all days in week\n",
    "    for d in range(DAYS_IN_WEEK):\n",
    "       room.sections[d][period] = None\n",
    "    master_schedule.roomSchedules[room_index] = room\n",
    "\n",
    "    return master_schedule"
   ]
  },
  {
   "cell_type": "code",
   "execution_count": 7,
   "metadata": {},
   "outputs": [
    {
     "data": {
      "text/plain": [
       "True"
      ]
     },
     "execution_count": 7,
     "metadata": {},
     "output_type": "execute_result"
    }
   ],
   "source": [
    "a = np.array([1, 2, 3])\n",
    "4 not in a"
   ]
  },
  {
   "cell_type": "code",
   "execution_count": null,
   "metadata": {},
   "outputs": [],
   "source": []
  }
 ],
 "metadata": {
  "kernelspec": {
   "display_name": "Python 3",
   "language": "python",
   "name": "python3"
  },
  "language_info": {
   "codemirror_mode": {
    "name": "ipython",
    "version": 3
   },
   "file_extension": ".py",
   "mimetype": "text/x-python",
   "name": "python",
   "nbconvert_exporter": "python",
   "pygments_lexer": "ipython3",
   "version": "3.11.4"
  },
  "orig_nbformat": 4
 },
 "nbformat": 4,
 "nbformat_minor": 2
}
