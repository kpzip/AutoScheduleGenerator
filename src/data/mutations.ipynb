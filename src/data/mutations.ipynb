{
 "cells": [
  {
   "cell_type": "code",
   "execution_count": 2,
   "metadata": {},
   "outputs": [],
   "source": [
    "import numpy as np\n",
    "import random\n",
    "from inputdata import Course, Room, Student, Teacher\n",
    "from Schedule import Schedule \n",
    "from MasterSchedule import MasterSchedule\n",
    "from RoomSchedule import RoomSchedule\n",
    "from StudentSchedule import StudentSchedule\n",
    "from TeacherSchedule import TeacherSchedule\n",
    "from Section import Section\n",
    "from Constants import DAYS_IN_WEEK, NUMBER_OF_PERIODS"
   ]
  },
  {
   "cell_type": "code",
   "execution_count": 3,
   "metadata": {},
   "outputs": [],
   "source": [
    "def ChangeSectionPeriod(master_schedule : MasterSchedule):\n",
    "  room : RoomSchedule = random.choice(master_schedule.roomSchedules)\n",
    "  orig_period = random.randrange(0, NUMBER_OF_PERIODS)\n",
    "  new_period\n",
    "  while new_period == orig_period:\n",
    "    new_period = random.randrange(0, NUMBER_OF_PERIODS)\n",
    "  \n",
    "  for i in range(DAYS_IN_WEEK):\n",
    "    a = room.sections[i][orig_period]\n",
    "    b = room.sections[i][new_period]\n",
    "    room.sections[i][orig_period] = b\n",
    "    room.sections[i][new_period] = a\n",
    "\n"
   ]
  },
  {
   "cell_type": "code",
   "execution_count": 5,
   "metadata": {},
   "outputs": [],
   "source": [
    "def SplitSectionPeriod(master_schedule : MasterSchedule):\n",
    "  orig_room : RoomSchedule = random.choice(master_schedule.roomSchedules)\n",
    "  while orig_room.getOccupiedSectionTimes().size() == 0:\n",
    "    orig_room = random.choice(master_schedule.roomSchedules)\n",
    "  occupied = orig_room.getOccupiedSectionTimes()\n",
    "\n",
    "  orig_period = random.choice(occupied)[1]\n",
    "\n",
    "  sec_room : RoomSchedule = random.choice(master_schedule.roomSchedules)\n",
    "  while sec_room.getEmptySectionTimes().size() == 0:\n",
    "    sec_room = random.choice(master_schedule.roomSchedules)\n",
    "  unoccupied = sec_room.getEmptySectionTimes()\n",
    "\n",
    "  sec_period = random(unoccupied)[1]\n",
    "\n",
    "  teacher = orig_room.getScheduledSection(0, orig_period).getTeacher()\n",
    "  \n"
   ]
  },
  {
   "cell_type": "code",
   "execution_count": null,
   "metadata": {},
   "outputs": [],
   "source": []
  }
 ],
 "metadata": {
  "kernelspec": {
   "display_name": "Python 3",
   "language": "python",
   "name": "python3"
  },
  "language_info": {
   "codemirror_mode": {
    "name": "ipython",
    "version": 3
   },
   "file_extension": ".py",
   "mimetype": "text/x-python",
   "name": "python",
   "nbconvert_exporter": "python",
   "pygments_lexer": "ipython3",
   "version": "3.11.4"
  },
  "orig_nbformat": 4
 },
 "nbformat": 4,
 "nbformat_minor": 2
}
