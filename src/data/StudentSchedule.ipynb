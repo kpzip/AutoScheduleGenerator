{
 "cells": [
  {
   "cell_type": "code",
   "execution_count": null,
   "id": "02b35e62-ff5a-47d1-99f7-28f3e35eaefb",
   "metadata": {},
   "outputs": [],
   "source": [
    "import numpy as np\n",
    "import Schedule\n",
    "from Constants import DAYS_IN_WEEK, NUMBER_OF_PERIODS"
   ]
  },
  {
   "cell_type": "code",
   "execution_count": null,
   "id": "ce166f14-d387-4c7a-8ad5-a65619277f20",
   "metadata": {},
   "outputs": [],
   "source": []
  },
  {
   "cell_type": "code",
   "execution_count": null,
   "id": "8518697c-5be3-4777-b563-239ec1f85a75",
   "metadata": {},
   "outputs": [],
   "source": [
    "class StudentSchedule(Schedule):\n",
    "\n",
    "    def __init__(self, student):\n",
    "        Schedule.__init__(self, NUMBER_OF_PERIODS + 1 if student.getTakesZeroPeriod() else NUMBER_OF_PERIODS)\n",
    "        self.student = student\n",
    "\n",
    "    def getStudent(self):\n",
    "        return self.student\n",
    "\n",
    "    "
   ]
  }
 ],
 "metadata": {
  "kernelspec": {
   "display_name": "Python 3 (ipykernel)",
   "language": "python",
   "name": "python3"
  },
  "language_info": {
   "codemirror_mode": {
    "name": "ipython",
    "version": 3
   },
   "file_extension": ".py",
   "mimetype": "text/x-python",
   "name": "python",
   "nbconvert_exporter": "python",
   "pygments_lexer": "ipython3",
   "version": "3.11.4"
  }
 },
 "nbformat": 4,
 "nbformat_minor": 5
}
