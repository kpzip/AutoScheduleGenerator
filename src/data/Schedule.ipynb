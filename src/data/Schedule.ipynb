{
 "cells": [
  {
   "cell_type": "code",
   "execution_count": null,
   "id": "786b9902-f37f-482d-9942-1c352ab43d7d",
   "metadata": {},
   "outputs": [],
   "source": [
    "import numpy as np\n",
    "import Course\n",
    "from abc import ABC, abstractmethod\n",
    "from Constants import DAYS_IN_WEEK, NUMBER_OF_PERIODS"
   ]
  },
  {
   "cell_type": "code",
   "execution_count": null,
   "id": "cb5eb3d8-9592-4589-aea5-68e8e9a33a40",
   "metadata": {},
   "outputs": [],
   "source": []
  },
  {
   "cell_type": "code",
   "execution_count": null,
   "id": "857df4c2-7b91-440e-beeb-f868457d1ce9",
   "metadata": {},
   "outputs": [],
   "source": [
    "class Schedule(ABC):\n",
    "\n",
    "    def __init__(self, numberOfPeriods):\n",
    "        self.sections = np.empty((DAYS_IN_WEEK, numberOfPeriods), dtype = Section)\n",
    "\n",
    "    def getScheduledSection(self, day_of_week, period):\n",
    "        return self.sections[day_of_week][period]"
   ]
  }
 ],
 "metadata": {
  "kernelspec": {
   "display_name": "Python 3 (ipykernel)",
   "language": "python",
   "name": "python3"
  },
  "language_info": {
   "codemirror_mode": {
    "name": "ipython",
    "version": 3
   },
   "file_extension": ".py",
   "mimetype": "text/x-python",
   "name": "python",
   "nbconvert_exporter": "python",
   "pygments_lexer": "ipython3",
   "version": "3.11.4"
  }
 },
 "nbformat": 4,
 "nbformat_minor": 5
}
