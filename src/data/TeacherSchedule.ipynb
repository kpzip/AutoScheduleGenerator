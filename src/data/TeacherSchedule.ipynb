{
 "cells": [
  {
   "cell_type": "code",
   "execution_count": null,
   "id": "86b2dae5-b240-48b5-a49d-b5bdf952bdd1",
   "metadata": {},
   "outputs": [],
   "source": [
    "import Schedule\n",
    "import numpy as np"
   ]
  },
  {
   "cell_type": "code",
   "execution_count": null,
   "id": "cbc2545f-2ee5-40f5-80aa-0b5f804c124a",
   "metadata": {},
   "outputs": [],
   "source": []
  },
  {
   "cell_type": "code",
   "execution_count": null,
   "id": "a7bb1006-12d3-4ca6-bb5d-b0f362b2e4b0",
   "metadata": {},
   "outputs": [],
   "source": [
    "class TeacherSchedule(Schedule):\n",
    "\n",
    "    def __init__(self, teacher):\n",
    "        Schedule.__init__(self, NUMBER_OF_PERIODS + 1)\n",
    "        self.teacher = teacher\n",
    "\n",
    "    def getTeacher(self):\n",
    "        return self.teacher\n",
    "\n",
    "    "
   ]
  }
 ],
 "metadata": {
  "kernelspec": {
   "display_name": "Python 3 (ipykernel)",
   "language": "python",
   "name": "python3"
  },
  "language_info": {
   "codemirror_mode": {
    "name": "ipython",
    "version": 3
   },
   "file_extension": ".py",
   "mimetype": "text/x-python",
   "name": "python",
   "nbconvert_exporter": "python",
   "pygments_lexer": "ipython3",
   "version": "3.11.4"
  }
 },
 "nbformat": 4,
 "nbformat_minor": 5
}
