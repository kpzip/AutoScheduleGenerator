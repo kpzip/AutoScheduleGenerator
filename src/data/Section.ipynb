{
 "cells": [
  {
   "cell_type": "code",
   "execution_count": null,
   "id": "a4a567c2-6d34-4d20-8326-fcfbe459a5f7",
   "metadata": {},
   "outputs": [],
   "source": [
    "import numpy as np"
   ]
  },
  {
   "cell_type": "code",
   "execution_count": null,
   "id": "dcef6480-ba7a-47c6-aa22-ab304f183160",
   "metadata": {},
   "outputs": [],
   "source": []
  },
  {
   "cell_type": "code",
   "execution_count": null,
   "id": "3ee095e7-b9e6-4700-946f-287709f8ea6b",
   "metadata": {},
   "outputs": [],
   "source": [
    "class Section:\n",
    "\n",
    "    def __init__(self, course, sectionnum, teacher, students):\n",
    "        self.course = course\n",
    "        self.sectionnum = sectionnum\n",
    "        self.teacher = teacher\n",
    "        self.students = students"
   ]
  }
 ],
 "metadata": {
  "kernelspec": {
   "display_name": "Python 3 (ipykernel)",
   "language": "python",
   "name": "python3"
  },
  "language_info": {
   "codemirror_mode": {
    "name": "ipython",
    "version": 3
   },
   "file_extension": ".py",
   "mimetype": "text/x-python",
   "name": "python",
   "nbconvert_exporter": "python",
   "pygments_lexer": "ipython3",
   "version": "3.11.4"
  }
 },
 "nbformat": 4,
 "nbformat_minor": 5
}
