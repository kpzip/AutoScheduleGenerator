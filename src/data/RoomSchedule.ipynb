{
 "cells": [
  {
   "cell_type": "code",
   "execution_count": null,
   "id": "ebaa37b9-c259-47d6-b1de-061cc78d0424",
   "metadata": {},
   "outputs": [],
   "source": [
    "import Schedule\n",
    "import numpy as np"
   ]
  },
  {
   "cell_type": "code",
   "execution_count": null,
   "id": "0c8bacfe-3771-4ede-8bdc-39786ab4a57c",
   "metadata": {},
   "outputs": [],
   "source": []
  },
  {
   "cell_type": "code",
   "execution_count": null,
   "id": "56b97a7a-f287-417c-8651-e0c25954da0e",
   "metadata": {},
   "outputs": [],
   "source": [
    "class TeacherSchedule(Schedule):\n",
    "\n",
    "    def __init__(self, room):\n",
    "        Schedule.__init__(self, NUMBER_OF_PERIODS + 1)\n",
    "        self.room = room\n",
    "\n",
    "    def getRoom(self):\n",
    "        return self.room\n",
    "\n",
    "    "
   ]
  }
 ],
 "metadata": {
  "kernelspec": {
   "display_name": "Python 3 (ipykernel)",
   "language": "python",
   "name": "python3"
  },
  "language_info": {
   "codemirror_mode": {
    "name": "ipython",
    "version": 3
   },
   "file_extension": ".py",
   "mimetype": "text/x-python",
   "name": "python",
   "nbconvert_exporter": "python",
   "pygments_lexer": "ipython3",
   "version": "3.11.4"
  }
 },
 "nbformat": 4,
 "nbformat_minor": 5
}
