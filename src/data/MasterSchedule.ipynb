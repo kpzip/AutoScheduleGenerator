{
 "cells": [
  {
   "cell_type": "code",
   "execution_count": null,
   "id": "d4e57b14-6f54-456c-8ae8-e892f35ef2da",
   "metadata": {},
   "outputs": [],
   "source": [
    "import numpy as np\n",
    "import RoomSchedule"
   ]
  },
  {
   "cell_type": "code",
   "execution_count": null,
   "id": "208efe73-32e7-4f76-a8ad-f66824ab98f0",
   "metadata": {},
   "outputs": [],
   "source": []
  },
  {
   "cell_type": "code",
   "execution_count": null,
   "id": "f32d23bc-b350-40d4-af08-5776678f0f9e",
   "metadata": {},
   "outputs": [],
   "source": [
    "class MasterSchedule:\n",
    "\n",
    "    def __init__(self):\n",
    "        self.roomSchedules = np.empty(0, dtype = RoomSchedule)\n",
    "\n",
    "    def getRoomSchedule(self, id):\n",
    "        for s in self.roomSchedules:\n",
    "            if s.getRoom().getId() == id:\n",
    "                return s\n",
    "        return None\n",
    "\n",
    "    def addRoomSchedule(self, roomSchedule):\n",
    "        self.roomSchedules.append(roomSchedule)\n",
    "\n",
    "    def getNumberOfRooms(self):\n",
    "        return self.roomSchedules.size()\n",
    "                "
   ]
  }
 ],
 "metadata": {
  "kernelspec": {
   "display_name": "Python 3 (ipykernel)",
   "language": "python",
   "name": "python3"
  },
  "language_info": {
   "codemirror_mode": {
    "name": "ipython",
    "version": 3
   },
   "file_extension": ".py",
   "mimetype": "text/x-python",
   "name": "python",
   "nbconvert_exporter": "python",
   "pygments_lexer": "ipython3",
   "version": "3.11.4"
  }
 },
 "nbformat": 4,
 "nbformat_minor": 5
}
