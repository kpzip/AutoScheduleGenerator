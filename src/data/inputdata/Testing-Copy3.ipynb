{
 "cells": [
  {
   "cell_type": "code",
   "execution_count": 45,
   "id": "262013f8",
   "metadata": {},
   "outputs": [],
   "source": [
    "import numpy as np\n",
    "import ipynb.fs\n",
    "from .defs.Course import Course\n",
    "from .defs.Room import Room\n",
    "from .defs.Teacher import Teacher\n",
    "\n",
    "import os\n",
    "#os.chdir(os.path.dirname(os.getcwd()))\n",
    "from .defs.Section import Section"
   ]
  },
  {
   "cell_type": "code",
   "execution_count": 46,
   "id": "6723f12c",
   "metadata": {},
   "outputs": [],
   "source": [
    "r = Room('123', 'physics lab')\n",
    "c = Course('AP Physics C', False, (1, r), 5)"
   ]
  },
  {
   "cell_type": "code",
   "execution_count": 47,
   "id": "ba8d812a",
   "metadata": {},
   "outputs": [
    {
     "name": "stdout",
     "output_type": "stream",
     "text": [
      "<ipynb.fs.defs.Course.Course object at 0x000002B560D6AD50>\n"
     ]
    }
   ],
   "source": [
    "print(c)"
   ]
  },
  {
   "cell_type": "code",
   "execution_count": 48,
   "id": "f5ba49da",
   "metadata": {},
   "outputs": [
    {
     "data": {
      "text/plain": [
       "'AP Physics C'"
      ]
     },
     "execution_count": 48,
     "metadata": {},
     "output_type": "execute_result"
    }
   ],
   "source": [
    "c.getName()"
   ]
  },
  {
   "cell_type": "code",
   "execution_count": 49,
   "id": "a95bc18e",
   "metadata": {},
   "outputs": [
    {
     "data": {
      "text/plain": [
       "'AP Physics C Mechanics and EnM'"
      ]
     },
     "execution_count": 49,
     "metadata": {},
     "output_type": "execute_result"
    }
   ],
   "source": [
    "c.setName('AP Physics C Mechanics and EnM')\n",
    "c.getName()"
   ]
  },
  {
   "cell_type": "code",
   "execution_count": 50,
   "id": "4fe61744",
   "metadata": {},
   "outputs": [
    {
     "data": {
      "text/plain": [
       "'C:\\\\Users\\\\zheyu\\\\schedule_project\\\\AutoScheduleGenerator\\\\src\\\\data'"
      ]
     },
     "execution_count": 50,
     "metadata": {},
     "output_type": "execute_result"
    }
   ],
   "source": [
    "os.getcwd()"
   ]
  },
  {
   "cell_type": "code",
   "execution_count": 51,
   "id": "b8e732a5",
   "metadata": {},
   "outputs": [],
   "source": [
    "t = Teacher('mr.teach', '123', np.array(['saf', 'asdf', 'asdfe', ';efa']), np.array([1, 2, 3, 4, 5]), np.array([0, 0 , 0 , 0]))\n",
    "s = Section(c, 1, t, np.array([]))"
   ]
  },
  {
   "cell_type": "code",
   "execution_count": 52,
   "id": "dfbd3d01",
   "metadata": {},
   "outputs": [
    {
     "data": {
      "text/plain": [
       "'mr.teach'"
      ]
     },
     "execution_count": 52,
     "metadata": {},
     "output_type": "execute_result"
    }
   ],
   "source": [
    "t.getName()"
   ]
  },
  {
   "cell_type": "code",
   "execution_count": null,
   "id": "780f858c",
   "metadata": {},
   "outputs": [],
   "source": []
  }
 ],
 "metadata": {
  "kernelspec": {
   "display_name": "Python 3 (ipykernel)",
   "language": "python",
   "name": "python3"
  },
  "language_info": {
   "codemirror_mode": {
    "name": "ipython",
    "version": 3
   },
   "file_extension": ".py",
   "mimetype": "text/x-python",
   "name": "python",
   "nbconvert_exporter": "python",
   "pygments_lexer": "ipython3",
   "version": "3.11.4"
  }
 },
 "nbformat": 4,
 "nbformat_minor": 5
}
