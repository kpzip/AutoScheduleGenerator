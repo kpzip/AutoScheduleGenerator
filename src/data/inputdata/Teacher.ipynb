{
 "cells": [
  {
   "cell_type": "code",
   "execution_count": 1,
   "id": "674cf713",
   "metadata": {},
   "outputs": [],
   "source": [
    "import numpy as np"
   ]
  },
  {
   "cell_type": "code",
   "execution_count": null,
   "id": "e3a3a3c0",
   "metadata": {},
   "outputs": [],
   "source": [
    "class Teacher:\n",
    "        def __init__(name, courses):\n",
    "        self.name = name\n",
    "        self.id = id\n",
    "        self.gradenum = gradenum\n",
    "        self.element = element\n",
    "        self.mandatory_courses = mandatory_courses\n",
    "        self.ranked_mandatory_courses = ranked_mandatory_courses\n",
    "        self.ranked_electives = ranked_electives"
   ]
  }
 ],
 "metadata": {
  "kernelspec": {
   "display_name": "Python 3 (ipykernel)",
   "language": "python",
   "name": "python3"
  },
  "language_info": {
   "codemirror_mode": {
    "name": "ipython",
    "version": 3
   },
   "file_extension": ".py",
   "mimetype": "text/x-python",
   "name": "python",
   "nbconvert_exporter": "python",
   "pygments_lexer": "ipython3",
   "version": "3.11.4"
  }
 },
 "nbformat": 4,
 "nbformat_minor": 5
}
