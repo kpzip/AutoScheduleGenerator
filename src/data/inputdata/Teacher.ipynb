{
 "cells": [
  {
   "cell_type": "code",
   "execution_count": 1,
   "id": "674cf713",
   "metadata": {},
   "outputs": [],
   "source": [
    "import numpy as np"
   ]
  },
  {
   "cell_type": "markdown",
   "id": "3a0f8737",
   "metadata": {},
   "source": [
    "# Constructor Syntax\n",
    "\n",
    "## name\n",
    "\n",
    "string, teacher's full name first, middle, last\n",
    "\n",
    "## id\n",
    "\n",
    "string, teacher id, unique for each teacher\n",
    "\n",
    "## ranked_courses\n",
    "\n",
    "nparray of strings, includes all the courses the teacher can teach in order of which courses they prefer to teach\n",
    "\n",
    "## periods_available\n",
    "\n",
    "nparray of ints, includes all periods the teacher is available to teach\n",
    "\n",
    "## students_ranked\n",
    "\n",
    "dictionary, student : weight, weight ranges from -1 -> +1, where negative means the teacher doesn't want the student in their class and +1 means they do"
   ]
  },
  {
   "cell_type": "code",
   "execution_count": 3,
   "id": "e3a3a3c0",
   "metadata": {},
   "outputs": [],
   "source": [
    "class Teacher:\n",
    "    def __init__(self, name, id, ranked_courses, periods_available, students_ranked):\n",
    "        self.name = name\n",
    "        self.id = id\n",
    "        self.ranked_courses = ranked_courses\n",
    "        self.periods_available = periods_available\n",
    "        self.students_ranked = students_ranked\n",
    "    \n",
    "    def getName(self): \n",
    "        return self.name\n",
    "    \n",
    "    def getId(self):\n",
    "        return self.id\n",
    "    \n",
    "    def getRankedCourses(self):\n",
    "        return self.ranked_courses\n",
    "    \n",
    "    def getPeriodsAvailable(self):\n",
    "        return self.periods_available\n",
    "    \n",
    "    def getStudentsRanked(self):\n",
    "        return self.students_ranked\n",
    "    \n",
    "    def setName(self, name): \n",
    "        self.name = name\n",
    "    \n",
    "    def setId(self, id):\n",
    "        self.id = id\n",
    "    \n",
    "    def setRankedCourses(self, ranked_courses):\n",
    "        self.ranked_courses = ranked_courses\n",
    "    \n",
    "    def setPeriodsAvailable(self, periods_available):\n",
    "        self.periods_available = periods_available\n",
    "    \n",
    "    def setStudentsRanked(self, students_ranked):\n",
    "        self.students_ranked = students_ranked\n",
    "    "
   ]
  }
 ],
 "metadata": {
  "kernelspec": {
   "display_name": "Python 3 (ipykernel)",
   "language": "python",
   "name": "python3"
  },
  "language_info": {
   "codemirror_mode": {
    "name": "ipython",
    "version": 3
   },
   "file_extension": ".py",
   "mimetype": "text/x-python",
   "name": "python",
   "nbconvert_exporter": "python",
   "pygments_lexer": "ipython3",
   "version": "3.11.4"
  }
 },
 "nbformat": 4,
 "nbformat_minor": 5
}
