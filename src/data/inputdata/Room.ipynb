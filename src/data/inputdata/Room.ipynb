{
 "cells": [
  {
   "cell_type": "code",
   "execution_count": 1,
   "id": "d467accc",
   "metadata": {},
   "outputs": [],
   "source": [
    "import numpy as np"
   ]
  },
  {
   "cell_type": "markdown",
   "id": "819ffef5",
   "metadata": {},
   "source": [
    "# Constructor Syntax:\n",
    "\n",
    "## id\n",
    "\n",
    "string, the room number or name\n",
    "\n",
    "## room_type\n",
    "\n",
    "string, describes the type of room\n",
    "\n",
    "room types: normal, chemstry lab, physics lab, biology lab, band, outside, multipurpose"
   ]
  },
  {
   "cell_type": "code",
   "execution_count": 2,
   "id": "249d153d",
   "metadata": {},
   "outputs": [],
   "source": [
    "class Room:\n",
    "    \n",
    "    def __init__(self, id, room_type):\n",
    "        self.id = id\n",
    "        self.room_type = room_type\n",
    "    \n",
    "    def getId(self):\n",
    "        return self.id\n",
    "\n",
    "    def setId(self):\n",
    "        self.id = id\n",
    "\n",
    "    def getRoomType(self):\n",
    "        return self.room_type\n",
    "\n",
    "    def setRoomType(self, room_type):\n",
    "        self.type = room_type"
   ]
  }
 ],
 "metadata": {
  "kernelspec": {
   "display_name": "Python 3 (ipykernel)",
   "language": "python",
   "name": "python3"
  },
  "language_info": {
   "codemirror_mode": {
    "name": "ipython",
    "version": 3
   },
   "file_extension": ".py",
   "mimetype": "text/x-python",
   "name": "python",
   "nbconvert_exporter": "python",
   "pygments_lexer": "ipython3",
   "version": "3.11.4"
  }
 },
 "nbformat": 4,
 "nbformat_minor": 5
}
