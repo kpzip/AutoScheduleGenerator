{
 "cells": [
  {
   "cell_type": "code",
   "execution_count": 1,
   "id": "b2b48ada",
   "metadata": {},
   "outputs": [],
   "source": [
    "import numpy as np"
   ]
  },
  {
   "cell_type": "code",
   "execution_count": 2,
   "id": "f2acbd96",
   "metadata": {},
   "outputs": [],
   "source": [
    "class Student:\n",
    "\n",
    "    \"\"\"\n",
    "    name: string, student's full name First, middle, last\n",
    "    id: string, student's id, should be unique\n",
    "    gradenum: integer, student's grade level\n",
    "    element: string, name of student's element\n",
    "    mandatory_courses: list of Course, courses the student must take\n",
    "    ranked_mandatory_courses: list of list of Course, ranked choices for courses where one is mandatory, but students may not get their prefered choice\n",
    "    ranked_electives: list of Course, the electives a student wishes to take\n",
    "\n",
    "    \"\"\"\n",
    "    def __init__(self, name, id, gradenum, element, mandatory_courses, ranked_mandatory_courses, ranked_electives):\n",
    "        self.name = name\n",
    "        self.id = id\n",
    "        self.gradenum = gradenum\n",
    "        self.element = element\n",
    "        self.mandatory_courses = mandatory_courses\n",
    "        self.ranked_mandatory_courses = ranked_mandatory_courses\n",
    "        self.ranked_electives = ranked_electives"
   ]
  }
 ],
 "metadata": {
  "kernelspec": {
   "display_name": "Python 3 (ipykernel)",
   "language": "python",
   "name": "python3"
  },
  "language_info": {
   "codemirror_mode": {
    "name": "ipython",
    "version": 3
   },
   "file_extension": ".py",
   "mimetype": "text/x-python",
   "name": "python",
   "nbconvert_exporter": "python",
   "pygments_lexer": "ipython3",
   "version": "3.11.4"
  }
 },
 "nbformat": 4,
 "nbformat_minor": 5
}
