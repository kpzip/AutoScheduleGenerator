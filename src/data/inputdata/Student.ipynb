{
 "cells": [
  {
   "cell_type": "code",
   "execution_count": 1,
   "id": "b2b48ada",
   "metadata": {},
   "outputs": [],
   "source": [
    "import numpy as np"
   ]
  },
  {
   "cell_type": "markdown",
   "id": "2596a761-7b3c-4c2b-9b7d-7c8b86566647",
   "metadata": {
    "jupyter": {
     "source_hidden": true
    }
   },
   "source": [
    "# Constructor Syntax:\n",
    "\n",
    "## Name\n",
    "\n",
    "string, student's full name First, middle, last\n",
    "\n",
    "## id\n",
    "\n",
    "string, student's id, should be unique\n",
    "\n",
    "## gradenum\n",
    "\n",
    "integer, student's grade level\n",
    "\n",
    "## element\n",
    "\n",
    "string, name of student's element\n",
    "\n",
    "## mandatory_courses\n",
    "\n",
    "nparray of courses, courses the student must take\n",
    "\n",
    "## ranked_mandatory_courses\n",
    "\n",
    "nparray of nparrays of courses, ranked choices for courses where one is mandatory, but students may not get their prefered choice\n",
    "\n",
    "## ranked_electives\n",
    "\n",
    "list of Courses, the electives a student wishes to take\n"
   ]
  },
  {
   "cell_type": "code",
   "execution_count": 1,
   "id": "f2acbd96",
   "metadata": {},
   "outputs": [],
   "source": [
    "class Student:\n",
    "    \n",
    "    def __init__(self, name, id, gradenum, element, mandatory_courses, ranked_mandatory_courses, ranked_electives):\n",
    "        self.name = name\n",
    "        self.id = id\n",
    "        self.gradenum = gradenum\n",
    "        self.element = element\n",
    "        self.mandatory_courses = mandatory_courses\n",
    "        self.ranked_mandatory_courses = ranked_mandatory_courses\n",
    "        self.ranked_electives = ranked_electives\n",
    "\n",
    "    def getName(self):\n",
    "        return self.name\n",
    "\n",
    "    def setName(self, name):\n",
    "        self.name = name\n",
    "\n",
    "    def getId(self):\n",
    "        return self.id\n",
    "\n",
    "    def setId(self, id):\n",
    "        self.id = id\n",
    "\n",
    "    def getGradeNum(self):\n",
    "        return self.gradenum\n",
    "\n",
    "    def setgradeNum(self, gradenum):\n",
    "        self.gradenum = gradenum\n",
    "\n",
    "    def getElement(self):\n",
    "        return self.element\n",
    "\n",
    "    def setElement(self, element):\n",
    "        self.element = element\n",
    "\n",
    "    def getMandatoryCourses(self):\n",
    "        return self.mandatory_courses\n",
    "\n",
    "    def setMandatoryCourses(self, mandatory_courses):\n",
    "        self.mandatory_courses = mandatory_courses\n",
    "\n",
    "    def getRankedMandatoryCourses(self):\n",
    "        return self.ranked_mandatory_courses\n",
    "\n",
    "    def setRankedMandatoryCourses(self, ranked_mandatory_courses):\n",
    "        self.ranked_mandatory_courses = ranked_mandatory_courses\n",
    "\n",
    "    def getRankedElectives(self):\n",
    "        return ranked_electives\n",
    "\n",
    "    def setRankedElectives(self):\n",
    "        self.ranked_electives = ranked_electives\n"
   ]
  }
 ],
 "metadata": {
  "kernelspec": {
   "display_name": "Python 3 (ipykernel)",
   "language": "python",
   "name": "python3"
  },
  "language_info": {
   "codemirror_mode": {
    "name": "ipython",
    "version": 3
   },
   "file_extension": ".py",
   "mimetype": "text/x-python",
   "name": "python",
   "nbconvert_exporter": "python",
   "pygments_lexer": "ipython3",
   "version": "3.11.4"
  }
 },
 "nbformat": 4,
 "nbformat_minor": 5
}
