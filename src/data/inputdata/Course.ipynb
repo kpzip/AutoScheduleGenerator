{
 "cells": [
  {
   "cell_type": "code",
   "execution_count": 2,
   "id": "55159ac7",
   "metadata": {},
   "outputs": [],
   "source": [
    "import numpy as np"
   ]
  },
  {
   "cell_type": "markdown",
   "id": "8434eed3",
   "metadata": {},
   "source": [
    "# Constructor Syntax\n",
    "\n",
    "## name\n",
    "\n",
    "string, course's name\n",
    "\n",
    "## req_one_per_element\n",
    "\n",
    "bool, whether or not a section of this course should have one section for every element that takes it\n",
    "\n",
    "## prefered_required_room\n",
    "\n",
    "tuple,\n",
    "\n",
    "first: 0, 1, 2; 0 means no preference, 1 means prefered, 2 means required\n",
    "\n",
    "second: room that is required or prefered\n",
    "\n",
    "## num_periods_per_week\n",
    "\n",
    "int, the number of periods this course has per week"
   ]
  },
  {
   "cell_type": "code",
   "execution_count": 3,
   "id": "885fbf4f",
   "metadata": {},
   "outputs": [],
   "source": [
    "class Course:\n",
    "    \n",
    "    def __init__(self, name, req_one_per_element, prefered_required_room, num_periods_per_week):\n",
    "        self.name = name\n",
    "        self.req_one_per_element = req_one_per_element\n",
    "        self.prefered_required_room = prefered_required_room\n",
    "        self.num_periods_per_week = num_periods_per_week\n",
    "\n",
    "    def getName(self):\n",
    "        return self.name\n",
    "\n",
    "    def setName(self, name):\n",
    "        self.name = name\n",
    "\n",
    "    def getReqOnePerElement(self):\n",
    "        return self.req_one_per_element\n",
    "\n",
    "    def setReqOnePerElement(self, req_one_per_element):\n",
    "        self.req_one_per_element = req_one_per_element\n",
    "\n",
    "    def getPreferedRequiredRoom(self):\n",
    "        return self.prefered_required_room\n",
    "\n",
    "    def setPreferedRequiredRoom(self, prefered_required_room):\n",
    "        self.prefered_required_room = prefered_required_room\n",
    "\n",
    "    def getNumPeriodsPerWeek(self):\n",
    "        return self.num_periods_per_week\n",
    "\n",
    "    def setNumPeriodsPerWeek(self, num_periods_per_week):\n",
    "        self.num_periods_per_week = num_periods_per_week"
   ]
  }
 ],
 "metadata": {
  "kernelspec": {
   "display_name": "Python 3 (ipykernel)",
   "language": "python",
   "name": "python3"
  },
  "language_info": {
   "codemirror_mode": {
    "name": "ipython",
    "version": 3
   },
   "file_extension": ".py",
   "mimetype": "text/x-python",
   "name": "python",
   "nbconvert_exporter": "python",
   "pygments_lexer": "ipython3",
   "version": "3.11.4"
  }
 },
 "nbformat": 4,
 "nbformat_minor": 5
}
