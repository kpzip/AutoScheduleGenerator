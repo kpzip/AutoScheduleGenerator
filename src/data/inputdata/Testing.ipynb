{
 "cells": [
  {
   "cell_type": "code",
   "execution_count": 50,
   "id": "262013f8",
   "metadata": {},
   "outputs": [],
   "source": [
    "import numpy as np\n",
    "import ipynb.fs\n",
    "from .defs.Course import Course\n",
    "from .defs.Room import Room\n",
    "\n",
    "import os"
   ]
  },
  {
   "cell_type": "code",
   "execution_count": 18,
   "id": "6723f12c",
   "metadata": {},
   "outputs": [],
   "source": [
    "r = Room('123', 'physics lab')\n",
    "c = Course('AP Physics C', False, (1, r), 5)"
   ]
  },
  {
   "cell_type": "code",
   "execution_count": 21,
   "id": "ba8d812a",
   "metadata": {},
   "outputs": [
    {
     "name": "stdout",
     "output_type": "stream",
     "text": [
      "<ipynb.fs.defs.Course.Course object at 0x000001DF920D4310>\n"
     ]
    }
   ],
   "source": [
    "print(c)"
   ]
  },
  {
   "cell_type": "code",
   "execution_count": 22,
   "id": "f5ba49da",
   "metadata": {},
   "outputs": [
    {
     "data": {
      "text/plain": [
       "'AP Physics C'"
      ]
     },
     "execution_count": 22,
     "metadata": {},
     "output_type": "execute_result"
    }
   ],
   "source": [
    "c.getName()"
   ]
  },
  {
   "cell_type": "code",
   "execution_count": 27,
   "id": "a95bc18e",
   "metadata": {},
   "outputs": [
    {
     "data": {
      "text/plain": [
       "'AP Phsyics C Mechanics and EnM'"
      ]
     },
     "execution_count": 27,
     "metadata": {},
     "output_type": "execute_result"
    }
   ],
   "source": [
    "c.setName('AP Phsyics C Mechanics and EnM')\n",
    "c.getName()"
   ]
  },
  {
   "cell_type": "code",
   "execution_count": 55,
   "id": "1d217321",
   "metadata": {},
   "outputs": [
    {
     "ename": "FileNotFoundError",
     "evalue": "[WinError 3] The system cannot find the path specified: 'C:\\\\Users\\\\schedule_project\\\\AutoScheduleGenerator\\\\src\\\\data\\\\inputdata'",
     "output_type": "error",
     "traceback": [
      "\u001b[1;31m---------------------------------------------------------------------------\u001b[0m",
      "\u001b[1;31mFileNotFoundError\u001b[0m                         Traceback (most recent call last)",
      "Cell \u001b[1;32mIn[55], line 1\u001b[0m\n\u001b[1;32m----> 1\u001b[0m \u001b[43mos\u001b[49m\u001b[38;5;241;43m.\u001b[39;49m\u001b[43mchdir\u001b[49m\u001b[43m(\u001b[49m\u001b[38;5;124;43mr\u001b[39;49m\u001b[38;5;124;43m\"\u001b[39;49m\u001b[38;5;124;43mC:\u001b[39;49m\u001b[38;5;124;43m\\\u001b[39;49m\u001b[38;5;124;43mUsers\u001b[39;49m\u001b[38;5;124;43m\\\u001b[39;49m\u001b[38;5;124;43mschedule_project\u001b[39;49m\u001b[38;5;124;43m\\\u001b[39;49m\u001b[38;5;124;43mAutoScheduleGenerator\u001b[39;49m\u001b[38;5;124;43m\\\u001b[39;49m\u001b[38;5;124;43msrc\u001b[39;49m\u001b[38;5;124;43m\\\u001b[39;49m\u001b[38;5;124;43mdata\u001b[39;49m\u001b[38;5;124;43m\\\u001b[39;49m\u001b[38;5;124;43minputdata\u001b[39;49m\u001b[38;5;124;43m\"\u001b[39;49m\u001b[43m)\u001b[49m\n",
      "\u001b[1;31mFileNotFoundError\u001b[0m: [WinError 3] The system cannot find the path specified: 'C:\\\\Users\\\\schedule_project\\\\AutoScheduleGenerator\\\\src\\\\data\\\\inputdata'"
     ]
    }
   ],
   "source": [
    "os.chdir(r\"C:\\Users\\schedule_project\\AutoScheduleGenerator\\src\\data\\inputdata\")"
   ]
  },
  {
   "cell_type": "code",
   "execution_count": null,
   "id": "293ac742",
   "metadata": {},
   "outputs": [],
   "source": []
  }
 ],
 "metadata": {
  "kernelspec": {
   "display_name": "Python 3 (ipykernel)",
   "language": "python",
   "name": "python3"
  },
  "language_info": {
   "codemirror_mode": {
    "name": "ipython",
    "version": 3
   },
   "file_extension": ".py",
   "mimetype": "text/x-python",
   "name": "python",
   "nbconvert_exporter": "python",
   "pygments_lexer": "ipython3",
   "version": "3.11.4"
  }
 },
 "nbformat": 4,
 "nbformat_minor": 5
}
