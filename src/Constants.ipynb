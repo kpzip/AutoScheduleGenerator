{
 "cells": [
  {
   "cell_type": "code",
   "execution_count": null,
   "id": "fd10dda7-baad-4e91-9fa9-e377c879f117",
   "metadata": {},
   "outputs": [],
   "source": [
    "import numpy as np"
   ]
  },
  {
   "cell_type": "code",
   "execution_count": null,
   "id": "292771d6-6c98-4254-91dd-03b89d4fc5bb",
   "metadata": {},
   "outputs": [],
   "source": []
  },
  {
   "cell_type": "code",
   "execution_count": null,
   "id": "1be58768-fd2a-42da-a555-eb6031eaf7a4",
   "metadata": {},
   "outputs": [],
   "source": [
    "DAYS_IN_WEEK = 5\n",
    "#Does Not Include Zero Period\n",
    "NUMBER_OF_PERIODS = 8"
   ]
  }
 ],
 "metadata": {
  "kernelspec": {
   "display_name": "Python 3 (ipykernel)",
   "language": "python",
   "name": "python3"
  },
  "language_info": {
   "codemirror_mode": {
    "name": "ipython",
    "version": 3
   },
   "file_extension": ".py",
   "mimetype": "text/x-python",
   "name": "python",
   "nbconvert_exporter": "python",
   "pygments_lexer": "ipython3",
   "version": "3.11.4"
  }
 },
 "nbformat": 4,
 "nbformat_minor": 5
}
